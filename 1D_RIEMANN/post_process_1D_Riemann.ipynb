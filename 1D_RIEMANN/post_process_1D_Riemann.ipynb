{
 "cells": [
  {
   "cell_type": "raw",
   "id": "8cc06f0f-7d21-49b6-9213-82ece0e842ee",
   "metadata": {
    "vscode": {
     "languageId": "raw"
    }
   },
   "source": [
    "---\n",
    "title: \"1D Riemann Problem\"\n",
    "format:\n",
    "  html:\n",
    "    code-fold: true\n",
    "execute:\n",
    "  enabled: true\n",
    "---"
   ]
  },
  {
   "cell_type": "markdown",
   "id": "ea335f03",
   "metadata": {},
   "source": [
    "**[Return to homepage](/index.qmd)**"
   ]
  },
  {
   "cell_type": "markdown",
   "id": "e8461b2c",
   "metadata": {},
   "source": [
    "The domain is $[0,\\,1]$, the initial condition is given by a constant left state and a constant right state separated at $x=0.7$. The two constant states are defined in the following table.\n",
    "\n",
    "<table class=\"mytable\">\n",
    "<colgroup>\n",
    "  <col style=\"width:10%\">\n",
    "  <col style=\"width:10%\">\n",
    "  <col style=\"width:10%\">\n",
    "  <col style=\"width:10%\">\n",
    "  <col style=\"width:10%\">\n",
    "  <col style=\"width:10%\">\n",
    "  <col style=\"width:10%\">\n",
    "  <col style=\"width:10%\">\n",
    "</colgroup>\n",
    "<thead>\n",
    "<tr>\n",
    "<th></th>\n",
    "<th>$\\alpha_1$</th>\n",
    "<th>$\\rho_1$</th>\n",
    "<th>$p_1$</th>\n",
    "<th>$u_1$</th>\n",
    "<th>$\\rho_2$</th>\n",
    "<th>$p_2$</th>\n",
    "<th>$u_2$</th>\n",
    "</tr>\n",
    "</thead>\n",
    "<tbody>\n",
    "<tr>\n",
    "<td> Left </td>\n",
    "<td>0.8</td>\n",
    "<td>1.0</td>\n",
    "<td>1000.0</td>\n",
    "<td>-10.0</td>\n",
    "<td>1.0</td>\n",
    "<td>1000.0</td>\n",
    "<td>-26.0</td>\n",
    "</tr>\n",
    "<tr>\n",
    "<td> Right </td>\n",
    "<td>0.3</td>\n",
    "<td>1.0</td>\n",
    "<td>0.1</td>\n",
    "<td>-10.0</td>\n",
    "<td>1.0</td>\n",
    "<td>0.1</td>\n",
    "<td>-26.0</td>\n",
    "</tr>\n",
    "</tbody>\n",
    "</table>\n",
    "\n",
    "In this table, the index indicates the phase. For the $k^{\\text{th}}$ phase,  $\\alpha_{k}$ represents its volume fraction, $\\rho_{k}$ and $p_{k}$ are its density and pressure respectively, while $u_{k}$ is its velocity.\n",
    "\n",
    "Each phase is equipped with a Stiffened gas equation of state, such that their pressure law writes $p_k = (\\gamma_{k} -1)\\rho_{k} e_k - \\gamma_{k} p_{\\infty,k}$, for $k=1,2$. Here, we use the values $\\gamma_{1} = 3.0$, $p_{\\infty,1} = 100$ and $\\gamma_{2} = 1.4$, $p_{\\infty,2} = 0$.\n",
    "\n",
    "The simulation is carried out on a mesh with $N=2^{16}=65536$ cells, the time step is controlled by a CFL constraint of $0.9$ and the final time is set at $0.007$."
   ]
  },
  {
   "cell_type": "code",
   "execution_count": null,
   "id": "25bc8315-d910-48a4-b967-71e7425592ad",
   "metadata": {},
   "outputs": [],
   "source": [
    "from post import plot_1D_Riemann_results"
   ]
  },
  {
   "cell_type": "code",
   "execution_count": null,
   "id": "98761441-3ed5-49fc-a327-d7659e7723e4",
   "metadata": {},
   "outputs": [],
   "source": [
    "plot_1D_Riemann_results(\"RESULTS/Rusanov_Flux_order1_ite_\", \"RESULTS/time_save.dat\", \"rho1\", \"vel1\")"
   ]
  },
  {
   "cell_type": "code",
   "execution_count": null,
   "id": "0f6450b7-9945-496d-a1c9-319004c9772b",
   "metadata": {},
   "outputs": [],
   "source": [
    "plot_1D_Riemann_results(\"RESULTS/Rusanov_Flux_order1_ite_\", \"RESULTS/time_save.dat\", \"rho2\", \"vel2\")"
   ]
  }
 ],
 "metadata": {
  "kernelspec": {
   "display_name": "Python 3 (ipykernel)",
   "language": "python",
   "name": "python3"
  },
  "language_info": {
   "codemirror_mode": {
    "name": "ipython",
    "version": 3
   },
   "file_extension": ".py",
   "mimetype": "text/x-python",
   "name": "python",
   "nbconvert_exporter": "python",
   "pygments_lexer": "ipython3",
   "version": "3.13.3"
  }
 },
 "nbformat": 4,
 "nbformat_minor": 5
}
