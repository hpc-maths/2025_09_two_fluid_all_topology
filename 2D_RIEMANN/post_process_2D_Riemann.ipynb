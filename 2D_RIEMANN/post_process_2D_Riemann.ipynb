{
 "cells": [
  {
   "cell_type": "raw",
   "id": "8cc06f0f-7d21-49b6-9213-82ece0e842ee",
   "metadata": {
    "vscode": {
     "languageId": "raw"
    }
   },
   "source": [
    "---\n",
    "title: \"2D Riemann Problem\"\n",
    "bibliography: ../references.bib\n",
    "csl: ../bib_style.csl\n",
    "reference-location: document\n",
    "format:\n",
    "  html:\n",
    "    code-fold: true\n",
    "execute:\n",
    "  enabled: true\n",
    "---"
   ]
  },
  {
   "cell_type": "markdown",
   "id": "d75b1701",
   "metadata": {},
   "source": [
    "**[Return to homepage](/index.qmd)**"
   ]
  },
  {
   "cell_type": "markdown",
   "id": "6d4ae117",
   "metadata": {},
   "source": [
    "Here we consider a 2D Riemann problem that is presented in [@dumbser2013].<br>\n",
    "The domain is given by the unit square $[0,\\,1]^{2}$ and is decomposed into four quadrants defined by\n",
    "\n",
    "- <span style=\"display:inline-block; width:90px;\">North East : </span> $[0.5,\\,1]\\times[0.5,\\,1]$\n",
    "- <span style=\"display:inline-block; width:90px;\">North West : </span> $[0,\\,0.5]\\times[0.5,\\,1]$\n",
    "- <span style=\"display:inline-block; width:90px;\">South West : </span> $[0,\\,0.5]\\times[0,\\,0.5]$\n",
    "- <span style=\"display:inline-block; width:90px;\">South East : </span> $[0.5,\\,1]\\times[0,\\,0.5]$\n",
    "\n",
    "The initial condition corresponds to a constant state in each quadrant. For this particular case, the North East and South West states are identical and so are the North West and South East states. They are given by the following table.\n",
    "\n",
    "<table class=\"mytable\">\n",
    "<colgroup>\n",
    "  <col style=\"width:14.5%\">\n",
    "  <col style=\"width:9.5%\">\n",
    "  <col style=\"width:9.5%\">\n",
    "  <col style=\"width:9.5%\">\n",
    "  <col style=\"width:9.5%\">\n",
    "  <col style=\"width:9.5%\">\n",
    "  <col style=\"width:9.5%\">\n",
    "  <col style=\"width:9.5%\">\n",
    "  <col style=\"width:9.5%\">\n",
    "  <col style=\"width:9.5%\">\n",
    "</colgroup>\n",
    "<thead>\n",
    "<tr>\n",
    "<th></th>\n",
    "<th>$\\alpha_1$</th>\n",
    "<th>$\\rho_1$</th>\n",
    "<th>$p_1$</th>\n",
    "<th>$u_1$</th>\n",
    "<th>$v_1$</th>\n",
    "<th>$\\rho_2$</th>\n",
    "<th>$p_2$</th>\n",
    "<th>$u_2$</th>\n",
    "<th>$v_2$</th>\n",
    "</tr>\n",
    "</thead>\n",
    "<tbody>\n",
    "<tr>\n",
    "<td>North East <br> South West</td>\n",
    "<td>0.3</td>\n",
    "<td>1000.0</td>\n",
    "<td>600.0</td>\n",
    "<td>0.0</td>\n",
    "<td>0.0</td>\n",
    "<td>1.0</td>\n",
    "<td>1.0</td>\n",
    "<td>0.0</td>\n",
    "<td>0.0</td>\n",
    "</tr>\n",
    "<tr>\n",
    "<td>North West <br> South East</td>\n",
    "<td>0.4</td>\n",
    "<td>800.0</td>\n",
    "<td>500.0</td>\n",
    "<td>0.0</td>\n",
    "<td>0.0</td>\n",
    "<td>1.5</td>\n",
    "<td>2.0</td>\n",
    "<td>0.0</td>\n",
    "<td>0.0</td>\n",
    "</tr>\n",
    "</tbody>\n",
    "</table>\n",
    "\n",
    "\n",
    "In this table, the index indicates the phase. For the $k^{\\text{th}}$ phase,  $\\alpha_{k}$ represents its volume fraction, $\\rho_{k}$ and $p_{k}$ are its density and pressure respectively, while $u_{k}$ and $v_{k}$ are the $x-$ and $y-$ components of its velocity field.\n",
    "\n",
    "Each phase is equipped with a Stiffened gas equation of state, such that their pressure law writes $p_k = (\\gamma_{k} -1)\\rho_{k} e_k - \\gamma_{k} p_{\\infty,k}$, for $k=1,2$. Here, we use the values $\\gamma_{1} = 3.0$, $p_{\\infty,1} = 100$ and $\\gamma_{2} = 1.4$, $p_{\\infty,2} = 0$.\n",
    "\n",
    "The simulation is carried out on a mesh with $N=2^{10}=1024$ cells in each direction, the time step is controlled by a CFL constraint of $0.4$ and the final time is set at $0.15$."
   ]
  },
  {
   "cell_type": "markdown",
   "id": "5ed31553",
   "metadata": {},
   "source": [
    "<video width=\"600\" controls>\n",
    "  <source src=\"frames/2D_Riemann_rho_1.mp4\" type=\"video/mp4\">\n",
    "  Your browser does not support the video tag.\n",
    "</video>"
   ]
  },
  {
   "cell_type": "markdown",
   "id": "b8f7d9bd",
   "metadata": {},
   "source": [
    "### References\n",
    "\n",
    "::: {#refs}\n",
    ":::"
   ]
  }
 ],
 "metadata": {
  "kernelspec": {
   "display_name": "Python 3 (ipykernel)",
   "language": "python",
   "name": "python3"
  },
  "language_info": {
   "codemirror_mode": {
    "name": "ipython",
    "version": 3
   },
   "file_extension": ".py",
   "mimetype": "text/x-python",
   "name": "python",
   "nbconvert_exporter": "python",
   "pygments_lexer": "ipython3",
   "version": "3.13.3"
  }
 },
 "nbformat": 4,
 "nbformat_minor": 5
}
